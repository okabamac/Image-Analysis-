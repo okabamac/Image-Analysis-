{
 "metadata": {
  "language_info": {
   "codemirror_mode": {
    "name": "ipython",
    "version": 3
   },
   "file_extension": ".py",
   "mimetype": "text/x-python",
   "name": "python",
   "nbconvert_exporter": "python",
   "pygments_lexer": "ipython3",
   "version": "3.8.3-final"
  },
  "orig_nbformat": 2,
  "kernelspec": {
   "name": "python3",
   "display_name": "Python 3",
   "language": "python"
  }
 },
 "nbformat": 4,
 "nbformat_minor": 2,
 "cells": [
  {
   "cell_type": "code",
   "execution_count": 1,
   "metadata": {},
   "outputs": [],
   "source": [
    "import cv2\n",
    "import numpy as np\n",
    "from matplotlib import pyplot as plt"
   ]
  },
  {
   "cell_type": "code",
   "execution_count": 2,
   "metadata": {},
   "outputs": [
    {
     "output_type": "execute_result",
     "data": {
      "text/plain": [
       "array([[0., 0., 0., 1., 0., 0., 1., 0., 0., 0., 0., 0.],\n",
       "       [0., 1., 3., 0., 0., 1., 0., 1., 0., 0., 0., 0.],\n",
       "       [0., 2., 1., 3., 2., 2., 1., 0., 1., 0., 0., 0.],\n",
       "       [0., 1., 3., 0., 3., 1., 0., 1., 0., 0., 0., 0.],\n",
       "       [1., 1., 0., 2., 1., 2., 2., 0., 1., 0., 0., 0.],\n",
       "       [1., 0., 2., 0., 2., 1., 0., 3., 1., 0., 0., 0.],\n",
       "       [0., 0., 2., 0., 0., 0., 0., 0., 1., 0., 1., 0.],\n",
       "       [0., 1., 0., 1., 1., 2., 0., 0., 1., 0., 0., 0.],\n",
       "       [0., 0., 1., 2., 1., 1., 1., 1., 3., 0., 1., 1.],\n",
       "       [0., 0., 0., 0., 0., 0., 1., 1., 1., 0., 1., 0.],\n",
       "       [0., 0., 0., 0., 0., 0., 0., 0., 3., 1., 0., 0.],\n",
       "       [0., 0., 0., 0., 0., 0., 0., 0., 0., 0., 1., 1.]])"
      ]
     },
     "metadata": {},
     "execution_count": 2
    }
   ],
   "source": [
    "matAGLCM = [[0.,\t0.,\t    0., \t1., \t0., \t0., \t1., \t0., \t0., \t0., \t0., \t0.],\n",
    "[0., \t1., \t3., \t0., \t0., \t1., \t0., \t1., \t0., \t0., \t0., \t0.], \n",
    "[0., \t2., \t1., \t3., \t2., \t2., \t1., \t0., \t1., \t0., \t0., \t0.],\n",
    "[0.,\t1., \t3., \t0., \t3., \t1., \t0., \t1., \t0., \t0., \t0., \t0.],\n",
    "[1., \t1., \t0., \t2., \t1., \t2., \t2., \t0., \t1., \t0., \t0., \t0.],\n",
    "[1., \t0., \t2., \t0., \t2., \t1., \t0., \t3., \t1., \t0., \t0., \t0.],\n",
    "[0., \t0., \t2., \t0., \t0., \t0., \t0., \t0., \t1., \t0., \t1., \t0.],\n",
    "[0., \t1., \t0., \t1., \t1., \t2., \t0., \t0., \t1., \t0., \t0., \t0.],\n",
    "[0., \t0., \t1., \t2., \t1., \t1., \t1., \t1., \t3., \t0., \t1., \t1.],\n",
    "[0., \t0., \t0., \t0., \t0., \t0., \t1., \t1., \t1., \t0., \t1., \t0.],\n",
    "[0., \t0., \t0., \t0., \t0., \t0., \t0., \t0., \t3., \t1., \t0., \t0.],\n",
    "[0., \t0., \t0., \t0., \t0., \t0., \t0., \t0., \t0., \t0., \t1., \t1.]]\n",
    "\n",
    "matAGLCM = np.asarray(matAGLCM)\n",
    "matAGLCM"
   ]
  },
  {
   "cell_type": "code",
   "execution_count": 3,
   "metadata": {},
   "outputs": [
    {
     "output_type": "stream",
     "name": "stdout",
     "text": [
      "0.5625\n0.6905381944444444\n"
     ]
    }
   ],
   "source": [
    "print(matAGLCM.mean())\n",
    "print(matAGLCM.var())"
   ]
  },
  {
   "cell_type": "code",
   "execution_count": 4,
   "metadata": {},
   "outputs": [
    {
     "output_type": "execute_result",
     "data": {
      "text/plain": [
       "array([[ 0.,  3.,  2.,  0.,  0.,  0.],\n",
       "       [ 2., 10.,  8.,  4.,  0.,  0.],\n",
       "       [ 3.,  6.,  6.,  6.,  1.,  0.],\n",
       "       [ 1.,  2.,  5.,  2.,  2.,  2.],\n",
       "       [ 0.,  2.,  1.,  4.,  3.,  1.],\n",
       "       [ 0.,  0.,  0.,  1.,  2.,  2.]])"
      ]
     },
     "metadata": {},
     "execution_count": 4
    }
   ],
   "source": [
    "matBGLCM = [[0.,\t3., \t2., \t0., \t0., \t0.],\n",
    "[2., \t10., \t8., \t4., \t0., \t0.],\n",
    "[3., \t6., \t6., \t6., \t1., \t0.],\n",
    "[1., \t2., \t5., \t2., \t2., \t2.],\n",
    "[0.,\t2., \t1., \t4., \t3., \t1.],\n",
    "[0., \t0., \t0., \t1., \t2., \t2.]]\n",
    "\n",
    "matBGLCM = np.asarray(matBGLCM)\n",
    "matBGLCM"
   ]
  },
  {
   "cell_type": "code",
   "execution_count": 5,
   "metadata": {},
   "outputs": [
    {
     "output_type": "stream",
     "name": "stdout",
     "text": [
      "2.25\n5.965277777777778\n"
     ]
    }
   ],
   "source": [
    "print(matBGLCM.mean())\n",
    "print(matBGLCM.var())"
   ]
  }
 ]
}